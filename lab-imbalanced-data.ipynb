{
 "cells": [
  {
   "cell_type": "markdown",
   "id": "e9db71dc-a693-4e3a-a30f-0085f217dc3d",
   "metadata": {},
   "source": [
    "![logo_ironhack_blue 7](https://user-images.githubusercontent.com/23629340/40541063-a07a0a8a-601a-11e8-91b5-2f13e4e6b441.png)"
   ]
  },
  {
   "cell_type": "markdown",
   "id": "e0eabc42-4e0d-42d7-ab3f-3bb9af7f775c",
   "metadata": {},
   "source": [
    "# Lab | Imbalanced data\n",
    "\n",
    "We will be using the `files_for_lab/customer_churn.csv` dataset to build a churn predictor."
   ]
  },
  {
   "cell_type": "markdown",
   "id": "fb7d2f34-c367-4e97-bea0-490d6dda09cb",
   "metadata": {},
   "source": [
    "# Importing Libraries"
   ]
  },
  {
   "cell_type": "code",
   "execution_count": 1,
   "id": "c89f4182-bfa2-48dd-bc7e-2cf509cbd83f",
   "metadata": {},
   "outputs": [],
   "source": [
    "import pandas as pd\n",
    "import numpy as np\n",
    "import matplotlib.pyplot as plt\n",
    "import seaborn as sns\n",
    "from sklearn.linear_model import LogisticRegression\n",
    "from sklearn.preprocessing import StandardScaler\n",
    "from sklearn.model_selection import train_test_split\n",
    "from sklearn.metrics import accuracy_score, confusion_matrix, classification_report, ConfusionMatrixDisplay, precision_score, recall_score, f1_score, cohen_kappa_score\n",
    "from imblearn.over_sampling import SMOTE"
   ]
  },
  {
   "cell_type": "markdown",
   "id": "c0cc62be-a99f-4b72-8f2f-7083fe959160",
   "metadata": {},
   "source": [
    "# Instructions"
   ]
  },
  {
   "cell_type": "markdown",
   "id": "41c990af-23ec-41b7-a53a-f424b6fb5bcd",
   "metadata": {},
   "source": [
    "## Load the dataset and explore the variables."
   ]
  },
  {
   "cell_type": "code",
   "execution_count": 2,
   "id": "a7a815be-642b-4f5b-b797-54cb7f6b512b",
   "metadata": {},
   "outputs": [
    {
     "data": {
      "text/html": [
       "<div>\n",
       "<style scoped>\n",
       "    .dataframe tbody tr th:only-of-type {\n",
       "        vertical-align: middle;\n",
       "    }\n",
       "\n",
       "    .dataframe tbody tr th {\n",
       "        vertical-align: top;\n",
       "    }\n",
       "\n",
       "    .dataframe thead th {\n",
       "        text-align: right;\n",
       "    }\n",
       "</style>\n",
       "<table border=\"1\" class=\"dataframe\">\n",
       "  <thead>\n",
       "    <tr style=\"text-align: right;\">\n",
       "      <th></th>\n",
       "      <th>customerID</th>\n",
       "      <th>gender</th>\n",
       "      <th>SeniorCitizen</th>\n",
       "      <th>Partner</th>\n",
       "      <th>Dependents</th>\n",
       "      <th>tenure</th>\n",
       "      <th>PhoneService</th>\n",
       "      <th>MultipleLines</th>\n",
       "      <th>InternetService</th>\n",
       "      <th>OnlineSecurity</th>\n",
       "      <th>...</th>\n",
       "      <th>DeviceProtection</th>\n",
       "      <th>TechSupport</th>\n",
       "      <th>StreamingTV</th>\n",
       "      <th>StreamingMovies</th>\n",
       "      <th>Contract</th>\n",
       "      <th>PaperlessBilling</th>\n",
       "      <th>PaymentMethod</th>\n",
       "      <th>MonthlyCharges</th>\n",
       "      <th>TotalCharges</th>\n",
       "      <th>Churn</th>\n",
       "    </tr>\n",
       "  </thead>\n",
       "  <tbody>\n",
       "    <tr>\n",
       "      <th>0</th>\n",
       "      <td>7590-VHVEG</td>\n",
       "      <td>Female</td>\n",
       "      <td>0</td>\n",
       "      <td>Yes</td>\n",
       "      <td>No</td>\n",
       "      <td>1</td>\n",
       "      <td>No</td>\n",
       "      <td>No phone service</td>\n",
       "      <td>DSL</td>\n",
       "      <td>No</td>\n",
       "      <td>...</td>\n",
       "      <td>No</td>\n",
       "      <td>No</td>\n",
       "      <td>No</td>\n",
       "      <td>No</td>\n",
       "      <td>Month-to-month</td>\n",
       "      <td>Yes</td>\n",
       "      <td>Electronic check</td>\n",
       "      <td>29.85</td>\n",
       "      <td>29.85</td>\n",
       "      <td>No</td>\n",
       "    </tr>\n",
       "    <tr>\n",
       "      <th>1</th>\n",
       "      <td>5575-GNVDE</td>\n",
       "      <td>Male</td>\n",
       "      <td>0</td>\n",
       "      <td>No</td>\n",
       "      <td>No</td>\n",
       "      <td>34</td>\n",
       "      <td>Yes</td>\n",
       "      <td>No</td>\n",
       "      <td>DSL</td>\n",
       "      <td>Yes</td>\n",
       "      <td>...</td>\n",
       "      <td>Yes</td>\n",
       "      <td>No</td>\n",
       "      <td>No</td>\n",
       "      <td>No</td>\n",
       "      <td>One year</td>\n",
       "      <td>No</td>\n",
       "      <td>Mailed check</td>\n",
       "      <td>56.95</td>\n",
       "      <td>1889.5</td>\n",
       "      <td>No</td>\n",
       "    </tr>\n",
       "    <tr>\n",
       "      <th>2</th>\n",
       "      <td>3668-QPYBK</td>\n",
       "      <td>Male</td>\n",
       "      <td>0</td>\n",
       "      <td>No</td>\n",
       "      <td>No</td>\n",
       "      <td>2</td>\n",
       "      <td>Yes</td>\n",
       "      <td>No</td>\n",
       "      <td>DSL</td>\n",
       "      <td>Yes</td>\n",
       "      <td>...</td>\n",
       "      <td>No</td>\n",
       "      <td>No</td>\n",
       "      <td>No</td>\n",
       "      <td>No</td>\n",
       "      <td>Month-to-month</td>\n",
       "      <td>Yes</td>\n",
       "      <td>Mailed check</td>\n",
       "      <td>53.85</td>\n",
       "      <td>108.15</td>\n",
       "      <td>Yes</td>\n",
       "    </tr>\n",
       "    <tr>\n",
       "      <th>3</th>\n",
       "      <td>7795-CFOCW</td>\n",
       "      <td>Male</td>\n",
       "      <td>0</td>\n",
       "      <td>No</td>\n",
       "      <td>No</td>\n",
       "      <td>45</td>\n",
       "      <td>No</td>\n",
       "      <td>No phone service</td>\n",
       "      <td>DSL</td>\n",
       "      <td>Yes</td>\n",
       "      <td>...</td>\n",
       "      <td>Yes</td>\n",
       "      <td>Yes</td>\n",
       "      <td>No</td>\n",
       "      <td>No</td>\n",
       "      <td>One year</td>\n",
       "      <td>No</td>\n",
       "      <td>Bank transfer (automatic)</td>\n",
       "      <td>42.30</td>\n",
       "      <td>1840.75</td>\n",
       "      <td>No</td>\n",
       "    </tr>\n",
       "    <tr>\n",
       "      <th>4</th>\n",
       "      <td>9237-HQITU</td>\n",
       "      <td>Female</td>\n",
       "      <td>0</td>\n",
       "      <td>No</td>\n",
       "      <td>No</td>\n",
       "      <td>2</td>\n",
       "      <td>Yes</td>\n",
       "      <td>No</td>\n",
       "      <td>Fiber optic</td>\n",
       "      <td>No</td>\n",
       "      <td>...</td>\n",
       "      <td>No</td>\n",
       "      <td>No</td>\n",
       "      <td>No</td>\n",
       "      <td>No</td>\n",
       "      <td>Month-to-month</td>\n",
       "      <td>Yes</td>\n",
       "      <td>Electronic check</td>\n",
       "      <td>70.70</td>\n",
       "      <td>151.65</td>\n",
       "      <td>Yes</td>\n",
       "    </tr>\n",
       "    <tr>\n",
       "      <th>...</th>\n",
       "      <td>...</td>\n",
       "      <td>...</td>\n",
       "      <td>...</td>\n",
       "      <td>...</td>\n",
       "      <td>...</td>\n",
       "      <td>...</td>\n",
       "      <td>...</td>\n",
       "      <td>...</td>\n",
       "      <td>...</td>\n",
       "      <td>...</td>\n",
       "      <td>...</td>\n",
       "      <td>...</td>\n",
       "      <td>...</td>\n",
       "      <td>...</td>\n",
       "      <td>...</td>\n",
       "      <td>...</td>\n",
       "      <td>...</td>\n",
       "      <td>...</td>\n",
       "      <td>...</td>\n",
       "      <td>...</td>\n",
       "      <td>...</td>\n",
       "    </tr>\n",
       "    <tr>\n",
       "      <th>7038</th>\n",
       "      <td>6840-RESVB</td>\n",
       "      <td>Male</td>\n",
       "      <td>0</td>\n",
       "      <td>Yes</td>\n",
       "      <td>Yes</td>\n",
       "      <td>24</td>\n",
       "      <td>Yes</td>\n",
       "      <td>Yes</td>\n",
       "      <td>DSL</td>\n",
       "      <td>Yes</td>\n",
       "      <td>...</td>\n",
       "      <td>Yes</td>\n",
       "      <td>Yes</td>\n",
       "      <td>Yes</td>\n",
       "      <td>Yes</td>\n",
       "      <td>One year</td>\n",
       "      <td>Yes</td>\n",
       "      <td>Mailed check</td>\n",
       "      <td>84.80</td>\n",
       "      <td>1990.5</td>\n",
       "      <td>No</td>\n",
       "    </tr>\n",
       "    <tr>\n",
       "      <th>7039</th>\n",
       "      <td>2234-XADUH</td>\n",
       "      <td>Female</td>\n",
       "      <td>0</td>\n",
       "      <td>Yes</td>\n",
       "      <td>Yes</td>\n",
       "      <td>72</td>\n",
       "      <td>Yes</td>\n",
       "      <td>Yes</td>\n",
       "      <td>Fiber optic</td>\n",
       "      <td>No</td>\n",
       "      <td>...</td>\n",
       "      <td>Yes</td>\n",
       "      <td>No</td>\n",
       "      <td>Yes</td>\n",
       "      <td>Yes</td>\n",
       "      <td>One year</td>\n",
       "      <td>Yes</td>\n",
       "      <td>Credit card (automatic)</td>\n",
       "      <td>103.20</td>\n",
       "      <td>7362.9</td>\n",
       "      <td>No</td>\n",
       "    </tr>\n",
       "    <tr>\n",
       "      <th>7040</th>\n",
       "      <td>4801-JZAZL</td>\n",
       "      <td>Female</td>\n",
       "      <td>0</td>\n",
       "      <td>Yes</td>\n",
       "      <td>Yes</td>\n",
       "      <td>11</td>\n",
       "      <td>No</td>\n",
       "      <td>No phone service</td>\n",
       "      <td>DSL</td>\n",
       "      <td>Yes</td>\n",
       "      <td>...</td>\n",
       "      <td>No</td>\n",
       "      <td>No</td>\n",
       "      <td>No</td>\n",
       "      <td>No</td>\n",
       "      <td>Month-to-month</td>\n",
       "      <td>Yes</td>\n",
       "      <td>Electronic check</td>\n",
       "      <td>29.60</td>\n",
       "      <td>346.45</td>\n",
       "      <td>No</td>\n",
       "    </tr>\n",
       "    <tr>\n",
       "      <th>7041</th>\n",
       "      <td>8361-LTMKD</td>\n",
       "      <td>Male</td>\n",
       "      <td>1</td>\n",
       "      <td>Yes</td>\n",
       "      <td>No</td>\n",
       "      <td>4</td>\n",
       "      <td>Yes</td>\n",
       "      <td>Yes</td>\n",
       "      <td>Fiber optic</td>\n",
       "      <td>No</td>\n",
       "      <td>...</td>\n",
       "      <td>No</td>\n",
       "      <td>No</td>\n",
       "      <td>No</td>\n",
       "      <td>No</td>\n",
       "      <td>Month-to-month</td>\n",
       "      <td>Yes</td>\n",
       "      <td>Mailed check</td>\n",
       "      <td>74.40</td>\n",
       "      <td>306.6</td>\n",
       "      <td>Yes</td>\n",
       "    </tr>\n",
       "    <tr>\n",
       "      <th>7042</th>\n",
       "      <td>3186-AJIEK</td>\n",
       "      <td>Male</td>\n",
       "      <td>0</td>\n",
       "      <td>No</td>\n",
       "      <td>No</td>\n",
       "      <td>66</td>\n",
       "      <td>Yes</td>\n",
       "      <td>No</td>\n",
       "      <td>Fiber optic</td>\n",
       "      <td>Yes</td>\n",
       "      <td>...</td>\n",
       "      <td>Yes</td>\n",
       "      <td>Yes</td>\n",
       "      <td>Yes</td>\n",
       "      <td>Yes</td>\n",
       "      <td>Two year</td>\n",
       "      <td>Yes</td>\n",
       "      <td>Bank transfer (automatic)</td>\n",
       "      <td>105.65</td>\n",
       "      <td>6844.5</td>\n",
       "      <td>No</td>\n",
       "    </tr>\n",
       "  </tbody>\n",
       "</table>\n",
       "<p>7043 rows × 21 columns</p>\n",
       "</div>"
      ],
      "text/plain": [
       "      customerID  gender  SeniorCitizen Partner Dependents  tenure  \\\n",
       "0     7590-VHVEG  Female              0     Yes         No       1   \n",
       "1     5575-GNVDE    Male              0      No         No      34   \n",
       "2     3668-QPYBK    Male              0      No         No       2   \n",
       "3     7795-CFOCW    Male              0      No         No      45   \n",
       "4     9237-HQITU  Female              0      No         No       2   \n",
       "...          ...     ...            ...     ...        ...     ...   \n",
       "7038  6840-RESVB    Male              0     Yes        Yes      24   \n",
       "7039  2234-XADUH  Female              0     Yes        Yes      72   \n",
       "7040  4801-JZAZL  Female              0     Yes        Yes      11   \n",
       "7041  8361-LTMKD    Male              1     Yes         No       4   \n",
       "7042  3186-AJIEK    Male              0      No         No      66   \n",
       "\n",
       "     PhoneService     MultipleLines InternetService OnlineSecurity  ...  \\\n",
       "0              No  No phone service             DSL             No  ...   \n",
       "1             Yes                No             DSL            Yes  ...   \n",
       "2             Yes                No             DSL            Yes  ...   \n",
       "3              No  No phone service             DSL            Yes  ...   \n",
       "4             Yes                No     Fiber optic             No  ...   \n",
       "...           ...               ...             ...            ...  ...   \n",
       "7038          Yes               Yes             DSL            Yes  ...   \n",
       "7039          Yes               Yes     Fiber optic             No  ...   \n",
       "7040           No  No phone service             DSL            Yes  ...   \n",
       "7041          Yes               Yes     Fiber optic             No  ...   \n",
       "7042          Yes                No     Fiber optic            Yes  ...   \n",
       "\n",
       "     DeviceProtection TechSupport StreamingTV StreamingMovies        Contract  \\\n",
       "0                  No          No          No              No  Month-to-month   \n",
       "1                 Yes          No          No              No        One year   \n",
       "2                  No          No          No              No  Month-to-month   \n",
       "3                 Yes         Yes          No              No        One year   \n",
       "4                  No          No          No              No  Month-to-month   \n",
       "...               ...         ...         ...             ...             ...   \n",
       "7038              Yes         Yes         Yes             Yes        One year   \n",
       "7039              Yes          No         Yes             Yes        One year   \n",
       "7040               No          No          No              No  Month-to-month   \n",
       "7041               No          No          No              No  Month-to-month   \n",
       "7042              Yes         Yes         Yes             Yes        Two year   \n",
       "\n",
       "     PaperlessBilling              PaymentMethod MonthlyCharges  TotalCharges  \\\n",
       "0                 Yes           Electronic check          29.85         29.85   \n",
       "1                  No               Mailed check          56.95        1889.5   \n",
       "2                 Yes               Mailed check          53.85        108.15   \n",
       "3                  No  Bank transfer (automatic)          42.30       1840.75   \n",
       "4                 Yes           Electronic check          70.70        151.65   \n",
       "...               ...                        ...            ...           ...   \n",
       "7038              Yes               Mailed check          84.80        1990.5   \n",
       "7039              Yes    Credit card (automatic)         103.20        7362.9   \n",
       "7040              Yes           Electronic check          29.60        346.45   \n",
       "7041              Yes               Mailed check          74.40         306.6   \n",
       "7042              Yes  Bank transfer (automatic)         105.65        6844.5   \n",
       "\n",
       "     Churn  \n",
       "0       No  \n",
       "1       No  \n",
       "2      Yes  \n",
       "3       No  \n",
       "4      Yes  \n",
       "...    ...  \n",
       "7038    No  \n",
       "7039    No  \n",
       "7040    No  \n",
       "7041   Yes  \n",
       "7042    No  \n",
       "\n",
       "[7043 rows x 21 columns]"
      ]
     },
     "execution_count": 2,
     "metadata": {},
     "output_type": "execute_result"
    }
   ],
   "source": [
    "customer_churn = pd.read_csv('./files_for_lab/customer_churn.csv')\n",
    "customer_churn"
   ]
  },
  {
   "cell_type": "markdown",
   "id": "e5d0f5b4-3696-4886-bcd0-8709880c54e4",
   "metadata": {},
   "source": [
    "## We will try to predict variable `Churn` using a logistic regression on variables `tenure`, `SeniorCitizen`,`MonthlyCharges`."
   ]
  },
  {
   "cell_type": "markdown",
   "id": "b85a6d18-f059-46e1-8553-b1f50d26a324",
   "metadata": {},
   "source": [
    "### Split the Dataset into X ('tenure', 'SeniorCitizen', 'MonthlyCharges') and y ('Churn')"
   ]
  },
  {
   "cell_type": "code",
   "execution_count": 3,
   "id": "6c164f33-898b-4271-bb38-e653460a188c",
   "metadata": {},
   "outputs": [],
   "source": [
    "# X/y split\n",
    "X = customer_churn[['tenure', 'SeniorCitizen', 'MonthlyCharges']]\n",
    "y = customer_churn['Churn']\n",
    "X_train, X_test, y_train, y_test = train_test_split(X, y, random_state=24)"
   ]
  },
  {
   "cell_type": "code",
   "execution_count": 4,
   "id": "7947c3cd-2282-4aaf-8298-fc5173e77a04",
   "metadata": {},
   "outputs": [
    {
     "data": {
      "text/html": [
       "<div>\n",
       "<style scoped>\n",
       "    .dataframe tbody tr th:only-of-type {\n",
       "        vertical-align: middle;\n",
       "    }\n",
       "\n",
       "    .dataframe tbody tr th {\n",
       "        vertical-align: top;\n",
       "    }\n",
       "\n",
       "    .dataframe thead th {\n",
       "        text-align: right;\n",
       "    }\n",
       "</style>\n",
       "<table border=\"1\" class=\"dataframe\">\n",
       "  <thead>\n",
       "    <tr style=\"text-align: right;\">\n",
       "      <th></th>\n",
       "      <th>tenure</th>\n",
       "      <th>SeniorCitizen</th>\n",
       "      <th>MonthlyCharges</th>\n",
       "    </tr>\n",
       "  </thead>\n",
       "  <tbody>\n",
       "    <tr>\n",
       "      <th>2683</th>\n",
       "      <td>-1.021824</td>\n",
       "      <td>-0.440389</td>\n",
       "      <td>0.491726</td>\n",
       "    </tr>\n",
       "    <tr>\n",
       "      <th>6712</th>\n",
       "      <td>-0.165308</td>\n",
       "      <td>-0.440389</td>\n",
       "      <td>0.685062</td>\n",
       "    </tr>\n",
       "    <tr>\n",
       "      <th>3569</th>\n",
       "      <td>-0.613959</td>\n",
       "      <td>-0.440389</td>\n",
       "      <td>-1.498307</td>\n",
       "    </tr>\n",
       "    <tr>\n",
       "      <th>1910</th>\n",
       "      <td>-1.103397</td>\n",
       "      <td>-0.440389</td>\n",
       "      <td>-1.146634</td>\n",
       "    </tr>\n",
       "    <tr>\n",
       "      <th>5350</th>\n",
       "      <td>0.854354</td>\n",
       "      <td>-0.440389</td>\n",
       "      <td>0.160054</td>\n",
       "    </tr>\n",
       "  </tbody>\n",
       "</table>\n",
       "</div>"
      ],
      "text/plain": [
       "        tenure  SeniorCitizen  MonthlyCharges\n",
       "2683 -1.021824      -0.440389        0.491726\n",
       "6712 -0.165308      -0.440389        0.685062\n",
       "3569 -0.613959      -0.440389       -1.498307\n",
       "1910 -1.103397      -0.440389       -1.146634\n",
       "5350  0.854354      -0.440389        0.160054"
      ]
     },
     "execution_count": 4,
     "metadata": {},
     "output_type": "execute_result"
    }
   ],
   "source": [
    "scaler = StandardScaler()\n",
    "scaler.fit(X_train)\n",
    "\n",
    "X_train_scaled_np = scaler.transform(X_train)\n",
    "X_train_scaled = pd.DataFrame(X_train_scaled_np, columns=X_train.columns, index=X_train.index)\n",
    "\n",
    "X_test_scaled_np = scaler.transform(X_test)\n",
    "X_test_scaled = pd.DataFrame(X_test_scaled_np , columns=X_test.columns, index=X_test.index)\n",
    "X_train_scaled.head()"
   ]
  },
  {
   "cell_type": "markdown",
   "id": "e759ae10-20dc-43c3-b19b-8f4e31f93d16",
   "metadata": {},
   "source": [
    "### Build the logistic regression model."
   ]
  },
  {
   "cell_type": "code",
   "execution_count": 5,
   "id": "3eb86c07-5397-44b1-a6a4-16bd6d86d8fa",
   "metadata": {},
   "outputs": [
    {
     "data": {
      "image/png": "[encoded data removed]",
      "text/plain": [
       "<Figure size 640x480 with 2 Axes>"
      ]
     },
     "metadata": {},
     "output_type": "display_data"
    }
   ],
   "source": [
    "correlations_matrix = X.corr()\n",
    "sns.heatmap(correlations_matrix, annot=True)\n",
    "plt.show()\n",
    "# NO COLINEARITY"
   ]
  },
  {
   "cell_type": "code",
   "execution_count": 6,
   "id": "a421824b-5152-44ea-a4c7-ec6215c1ae74",
   "metadata": {},
   "outputs": [],
   "source": [
    "lr = LogisticRegression(random_state=24, solver='lbfgs')\n",
    "lr.fit(X_train_scaled, y_train)\n",
    "\n",
    "y_pred = lr.predict(X_test)\n",
    "\n",
    "# Evaluate the model\n",
    "accuracy = accuracy_score(y_test, y_pred)\n",
    "conf_matrix = confusion_matrix(y_test, y_pred)\n",
    "class_report = classification_report(y_test, y_pred)"
   ]
  },
  {
   "cell_type": "code",
   "execution_count": 7,
   "id": "c23b4dd4-d1a1-4c1e-9088-4c4510584284",
   "metadata": {},
   "outputs": [
    {
     "name": "stdout",
     "output_type": "stream",
     "text": [
      "Accuracy: 0.55\n",
      "Confusion Matrix:\n",
      "[[545 775]\n",
      " [ 26 415]]\n",
      "Classification Report:\n",
      "              precision    recall  f1-score   support\n",
      "\n",
      "          No       0.95      0.41      0.58      1320\n",
      "         Yes       0.35      0.94      0.51       441\n",
      "\n",
      "    accuracy                           0.55      1761\n",
      "   macro avg       0.65      0.68      0.54      1761\n",
      "weighted avg       0.80      0.55      0.56      1761\n",
      "\n"
     ]
    }
   ],
   "source": [
    "# Print the evaluation metrics\n",
    "print(f\"Accuracy: {accuracy:.2f}\")\n",
    "print(\"Confusion Matrix:\")\n",
    "print(conf_matrix)\n",
    "print(\"Classification Report:\")\n",
    "print(class_report)"
   ]
  },
  {
   "cell_type": "markdown",
   "id": "297a49d5-9bcd-4e3f-ae83-91d020dec1ae",
   "metadata": {},
   "source": [
    "### Evaluate the model."
   ]
  },
  {
   "cell_type": "raw",
   "id": "81b6190d-e3c3-47c0-abd0-ebd47bcb12dc",
   "metadata": {},
   "source": [
    "The accuracy of the model is of 0.55. Which means that correctly can predict 55% of the results. \n",
    "It's mildly accurate. "
   ]
  },
  {
   "cell_type": "code",
   "execution_count": 8,
   "id": "edfd9726-7c7d-432f-b644-5280df2bccfa",
   "metadata": {},
   "outputs": [
    {
     "name": "stdout",
     "output_type": "stream",
     "text": [
      "The accuracy of the model in the TEST set is: 0.81\n"
     ]
    }
   ],
   "source": [
    "lr = LogisticRegression(random_state=24, solver='lbfgs')\n",
    "lr.fit(X_train_scaled, y_train)\n",
    "print(\"The accuracy of the model in the TEST set is: {:.2f}\".format(lr.score(X_test_scaled, y_test)))"
   ]
  },
  {
   "cell_type": "code",
   "execution_count": 9,
   "id": "461849e1-a904-49e1-a913-b6f5e027421d",
   "metadata": {},
   "outputs": [
    {
     "name": "stdout",
     "output_type": "stream",
     "text": [
      "The accuracy in the TEST set is: 0.81\n",
      "The precision in the TEST set is: 0.75\n",
      "The recall in the TEST set is: 0.70\n",
      "The F1 in the TEST set is: 0.71\n",
      "The Kappa in the TEST set is: 0.43\n"
     ]
    }
   ],
   "source": [
    "y_pred_test = lr.predict(X_test_scaled)\n",
    "\n",
    "print(\"The accuracy in the TEST set is: {:.2f}\".format(accuracy_score(y_test,y_pred_test)))\n",
    "print(\"The precision in the TEST set is: {:.2f}\".format(precision_score(y_test,y_pred_test, average='macro')))\n",
    "print(\"The recall in the TEST set is: {:.2f}\".format(recall_score(y_test,y_pred_test, average='macro')))\n",
    "print(\"The F1 in the TEST set is: {:.2f}\".format(f1_score(y_test,y_pred_test, average='macro')))\n",
    "print(\"The Kappa in the TEST set is: {:.2f}\".format(cohen_kappa_score(y_test,y_pred_test)))\n",
    "\n",
    "# using average = macro for equal treatment in all variables"
   ]
  },
  {
   "cell_type": "code",
   "execution_count": 10,
   "id": "8a769f30-041b-404a-b040-71f3d7d3f9a0",
   "metadata": {},
   "outputs": [
    {
     "data": {
      "image/png": "[encoded data removed]",
      "text/plain": [
       "<Figure size 640x480 with 2 Axes>"
      ]
     },
     "metadata": {},
     "output_type": "display_data"
    }
   ],
   "source": [
    "cm_test = confusion_matrix(y_test,y_pred_test)\n",
    "disp = ConfusionMatrixDisplay(confusion_matrix=cm_test, display_labels=lr.classes_)\n",
    "disp.plot()\n",
    "plt.show()"
   ]
  },
  {
   "cell_type": "markdown",
   "id": "2e7f3864-bb80-40b4-a89f-65bd127abf1a",
   "metadata": {},
   "source": [
    "## Even a simple model will give us more than 70% accuracy. Why?"
   ]
  },
  {
   "cell_type": "code",
   "execution_count": 11,
   "id": "66572360-8107-4e83-b9aa-e9f7e324d27e",
   "metadata": {},
   "outputs": [
    {
     "name": "stdout",
     "output_type": "stream",
     "text": [
      "No     5174\n",
      "Yes    1869\n",
      "Name: Churn, dtype: int64\n"
     ]
    },
    {
     "data": {
      "image/png": "[encoded data removed]",
      "text/plain": [
       "<Figure size 640x480 with 1 Axes>"
      ]
     },
     "metadata": {},
     "output_type": "display_data"
    }
   ],
   "source": [
    "count_classes = customer_churn['Churn'].value_counts()\n",
    "print(count_classes)\n",
    "sns.countplot(x = 'Churn', data = customer_churn);\n",
    "plt.show()"
   ]
  },
  {
   "cell_type": "code",
   "execution_count": 12,
   "id": "1f920fab-308f-40fe-8d1c-2ac5c73d8ee7",
   "metadata": {},
   "outputs": [
    {
     "name": "stdout",
     "output_type": "stream",
     "text": [
      "The class imbalance ratio is: 0.47\n"
     ]
    }
   ],
   "source": [
    "print(\"The class imbalance ratio is: {:.2f}\".format((count_classes[0]-count_classes[1])/(count_classes[0]+count_classes[1])))"
   ]
  },
  {
   "cell_type": "raw",
   "id": "9178e5f5-0857-45cb-aff4-5ec21664662d",
   "metadata": {},
   "source": [
    "There's a clear imbalance between the answers in the column to predict. The 'No' promotes a bigger no-churning prediction, that it's wrong. "
   ]
  },
  {
   "cell_type": "markdown",
   "id": "578427a4-c8f2-4f5a-a735-8f80deb5dec8",
   "metadata": {},
   "source": [
    "## Synthetic Minority Oversampling TEchnique (SMOTE) is an over sampling technique based on nearest neighbors that adds new points between existing points. Apply `imblearn.over_sampling.SMOTE` to the dataset. Build and evaluate the logistic regression model. Is it there any improvement?\n"
   ]
  },
  {
   "cell_type": "code",
   "execution_count": 13,
   "id": "d64965bc-2e51-4a9b-87d4-e9627cd49c63",
   "metadata": {},
   "outputs": [],
   "source": [
    "sm = SMOTE(random_state=100,k_neighbors=3)\n",
    "\n",
    "X_train_SMOTE,y_train_SMOTE = sm.fit_resample(X_train_scaled,y_train)"
   ]
  },
  {
   "cell_type": "code",
   "execution_count": 14,
   "id": "f74360f8-4fe2-4a66-94fc-582c074c81bd",
   "metadata": {},
   "outputs": [
    {
     "name": "stdout",
     "output_type": "stream",
     "text": [
      "(5282, 3)\n",
      "(7708, 3)\n"
     ]
    }
   ],
   "source": [
    "print(X_train.shape)\n",
    "print(X_train_SMOTE.shape)"
   ]
  },
  {
   "cell_type": "code",
   "execution_count": 15,
   "id": "280e6060-8c45-4f05-bc46-42b9acf84c7d",
   "metadata": {},
   "outputs": [
    {
     "name": "stdout",
     "output_type": "stream",
     "text": [
      "Yes    3854\n",
      "No     3854\n",
      "Name: Churn, dtype: int64\n"
     ]
    }
   ],
   "source": [
    "print(y_train_SMOTE.value_counts())"
   ]
  },
  {
   "cell_type": "code",
   "execution_count": 16,
   "id": "518b1416-67bc-40f1-9d32-0f8947859896",
   "metadata": {},
   "outputs": [
    {
     "name": "stdout",
     "output_type": "stream",
     "text": [
      "The accuracy in the TEST set is: 0.73\n",
      "The precision in the TEST set is: 0.68\n",
      "The recall in the TEST set is: 0.73\n",
      "The F1 in the TEST set is: 0.69\n",
      "The Kappa in the TEST set is: 0.40\n"
     ]
    }
   ],
   "source": [
    "lr = LogisticRegression(max_iter=1000)\n",
    "lr.fit(X_train_SMOTE, y_train_SMOTE)\n",
    "y_pred_test = lr.predict(X_test_scaled)\n",
    "\n",
    "print(\"The accuracy in the TEST set is: {:.2f}\".format(accuracy_score(y_test,y_pred_test)))\n",
    "print(\"The precision in the TEST set is: {:.2f}\".format(precision_score(y_test,y_pred_test, average='macro')))\n",
    "print(\"The recall in the TEST set is: {:.2f}\".format(recall_score(y_test,y_pred_test, average='macro')))\n",
    "print(\"The F1 in the TEST set is: {:.2f}\".format(f1_score(y_test,y_pred_test, average='macro')))\n",
    "print(\"The Kappa in the TEST set is: {:.2f}\".format(cohen_kappa_score(y_test,y_pred_test)))\n",
    "\n",
    "# using average = macro for equal treatment in all variables "
   ]
  },
  {
   "cell_type": "code",
   "execution_count": 18,
   "id": "124e5216-b822-4682-bb5b-8ecdd972eaf4",
   "metadata": {},
   "outputs": [
    {
     "data": {
      "image/png": "[encoded data removed]",
      "text/plain": [
       "<Figure size 640x480 with 2 Axes>"
      ]
     },
     "metadata": {},
     "output_type": "display_data"
    }
   ],
   "source": [
    "cm_test = confusion_matrix(y_test,y_pred_test)\n",
    "disp = ConfusionMatrixDisplay(confusion_matrix=cm_test, display_labels=lr.classes_)\n",
    "disp.plot()\n",
    "plt.show()"
   ]
  },
  {
   "cell_type": "raw",
   "id": "d13fec5a-4336-4228-b751-e2a7d6bb0816",
   "metadata": {},
   "source": [
    "There was no improvement, even doing the class balancing with smote. "
   ]
  },
  {
   "cell_type": "code",
   "execution_count": null,
   "id": "682c5c4c-879f-42cb-b4f3-10842361fb38",
   "metadata": {},
   "outputs": [],
   "source": []
  }
 ],
 "metadata": {
  "kernelspec": {
   "display_name": "Python 3 (ipykernel)",
   "language": "python",
   "name": "python3"
  },
  "language_info": {
   "codemirror_mode": {
    "name": "ipython",
    "version": 3
   },
   "file_extension": ".py",
   "mimetype": "text/x-python",
   "name": "python",
   "nbconvert_exporter": "python",
   "pygments_lexer": "ipython3",
   "version": "3.10.9"
  },
  "toc-autonumbering": true
 },
 "nbformat": 4,
 "nbformat_minor": 5
}
